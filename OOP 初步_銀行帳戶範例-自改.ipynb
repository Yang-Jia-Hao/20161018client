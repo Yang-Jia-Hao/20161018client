{
 "cells": [
  {
   "cell_type": "code",
   "execution_count": 111,
   "metadata": {
    "collapsed": false
   },
   "outputs": [
    {
     "name": "stdout",
     "output_type": "stream",
     "text": [
      "# packages in environment at C:\\Users\\s\\Anaconda3:\n",
      "#\n",
      "_nb_ext_conf              0.2.0                    py35_0  \n",
      "alabaster                 0.7.8                    py35_0  \n",
      "anaconda                  4.1.1               np111py35_0  \n",
      "anaconda-client           1.4.0                    py35_0  \n",
      "anaconda-navigator        1.2.1                    py35_0  \n",
      "argcomplete               1.0.0                    py35_1  \n",
      "astropy                   1.2.1               np111py35_0  \n",
      "babel                     2.3.3                    py35_0  \n",
      "backports                 1.0                      py35_0  \n",
      "beautifulsoup4            4.4.1                    py35_0  \n",
      "bitarray                  0.8.1                    py35_1  \n",
      "blaze                     0.10.1                   py35_0  \n",
      "bokeh                     0.12.0                   py35_0  \n",
      "boto                      2.40.0                   py35_0  \n",
      "bottleneck                1.1.0               np111py35_0  \n",
      "bzip2                     1.0.6                    vc14_3  [vc14]\n",
      "cffi                      1.6.0                    py35_0  \n",
      "chest                     0.2.3                    py35_0  \n",
      "click                     6.6                      py35_0  \n",
      "cloudpickle               0.2.1                    py35_0  \n",
      "clyent                    1.2.2                    py35_0  \n",
      "colorama                  0.3.7                    py35_0  \n",
      "comtypes                  1.1.2                    py35_0  \n",
      "conda                     4.1.6                    py35_0  \n",
      "conda-build               1.21.3                   py35_0  \n",
      "conda-env                 2.5.1                    py35_0  \n",
      "configobj                 5.0.6                    py35_0  \n",
      "console_shortcut          0.1.1                    py35_1  \n",
      "contextlib2               0.5.3                    py35_0  \n",
      "cryptography              1.4                      py35_0  \n",
      "curl                      7.49.0                   vc14_0  [vc14]\n",
      "cycler                    0.10.0                   py35_0  \n",
      "cython                    0.24                     py35_0  \n",
      "cytoolz                   0.8.0                    py35_0  \n",
      "dask                      0.10.0                   py35_0  \n",
      "datashape                 0.5.2                    py35_0  \n",
      "decorator                 4.0.10                   py35_0  \n",
      "dill                      0.2.5                    py35_0  \n",
      "docutils                  0.12                     py35_2  \n",
      "dynd-python               0.7.2                    py35_0  \n",
      "entrypoints               0.2.2                    py35_0  \n",
      "et_xmlfile                1.0.1                    py35_0  \n",
      "fastcache                 1.0.2                    py35_1  \n",
      "flask                     0.11.1                   py35_0  \n",
      "flask-cors                2.1.2                    py35_0  \n",
      "freetype                  2.5.5                    vc14_1  [vc14]\n",
      "get_terminal_size         1.0.0                    py35_0  \n",
      "gevent                    1.1.1                    py35_0  \n",
      "greenlet                  0.4.10                   py35_0  \n",
      "h5py                      2.6.0               np111py35_0  \n",
      "hdf5                      1.8.15.1                 vc14_4  [vc14]\n",
      "heapdict                  1.0.0                    py35_1  \n",
      "idna                      2.1                      py35_0  \n",
      "imagesize                 0.7.1                    py35_0  \n",
      "ipykernel                 4.3.1                    py35_0  \n",
      "ipython                   4.2.0                    py35_0  \n",
      "ipython_genutils          0.1.0                    py35_0  \n",
      "ipywidgets                4.1.1                    py35_0  \n",
      "itsdangerous              0.24                     py35_0  \n",
      "jdcal                     1.2                      py35_1  \n",
      "jedi                      0.9.0                    py35_1  \n",
      "jinja2                    2.8                      py35_1  \n",
      "jpeg                      8d                       vc14_0  [vc14]\n",
      "jsonschema                2.5.1                    py35_0  \n",
      "jupyter                   1.0.0                    py35_3  \n",
      "jupyter_client            4.3.0                    py35_0  \n",
      "jupyter_console           4.1.1                    py35_0  \n",
      "jupyter_core              4.1.0                    py35_0  \n",
      "libdynd                   0.7.2                         0  \n",
      "libpng                    1.6.22                   vc14_0  [vc14]\n",
      "libtiff                   4.0.6                    vc14_2  [vc14]\n",
      "llvmlite                  0.11.0                   py35_0  \n",
      "locket                    0.2.0                    py35_1  \n",
      "lxml                      3.6.0                    py35_0  \n",
      "markupsafe                0.23                     py35_2  \n",
      "matplotlib                1.5.1               np111py35_0  \n",
      "menuinst                  1.4.1                    py35_0  \n",
      "mistune                   0.7.2                    py35_0  \n",
      "mkl                       11.3.3                        1  \n",
      "mkl-service               1.1.2                    py35_2  \n",
      "mpmath                    0.19                     py35_1  \n",
      "multipledispatch          0.4.8                    py35_0  \n",
      "nb_anacondacloud          1.1.0                    py35_0  \n",
      "nb_conda                  1.1.0                    py35_0  \n",
      "nb_conda_kernels          1.0.3                    py35_0  \n",
      "nbconvert                 4.2.0                    py35_0  \n",
      "nbformat                  4.0.1                    py35_0  \n",
      "nbpresent                 3.0.2                    py35_0  \n",
      "networkx                  1.11                     py35_0  \n",
      "nltk                      3.2.1                    py35_0  \n",
      "nose                      1.3.7                    py35_1  \n",
      "notebook                  4.2.1                    py35_0  \n",
      "numba                     0.26.0              np111py35_0  \n",
      "numexpr                   2.6.0               np111py35_0  \n",
      "numpy                     1.11.1                   py35_0  \n",
      "odo                       0.5.0                    py35_1  \n",
      "openpyxl                  2.3.2                    py35_0  \n",
      "openssl                   1.0.2h                   vc14_0  [vc14]\n",
      "pandas                    0.18.1              np111py35_0  \n",
      "partd                     0.3.4                    py35_0  \n",
      "path.py                   8.2.1                    py35_0  \n",
      "pathlib2                  2.1.0                    py35_0  \n",
      "patsy                     0.4.1                    py35_0  \n",
      "pep8                      1.7.0                    py35_0  \n",
      "pickleshare               0.7.2                    py35_0  \n",
      "pillow                    3.2.0                    py35_1  \n",
      "pip                       8.1.2                    py35_0  \n",
      "ply                       3.8                      py35_0  \n",
      "psutil                    4.3.0                    py35_0  \n",
      "py                        1.4.31                   py35_0  \n",
      "pyasn1                    0.1.9                    py35_0  \n",
      "pycosat                   0.6.1                    py35_1  \n",
      "pycparser                 2.14                     py35_1  \n",
      "pycrypto                  2.6.1                    py35_4  \n",
      "pycurl                    7.43.0                   py35_0  \n",
      "pyflakes                  1.2.3                    py35_0  \n",
      "pygments                  2.1.3                    py35_0  \n",
      "pyopenssl                 0.16.0                   py35_0  \n",
      "pyparsing                 2.1.4                    py35_0  \n",
      "pyqt                      4.11.4                   py35_6  \n",
      "pyreadline                2.1                      py35_0  \n",
      "pytables                  3.2.2               np111py35_4  \n",
      "pytest                    2.9.2                    py35_0  \n",
      "python                    3.5.2                         0  \n",
      "python-dateutil           2.5.3                    py35_0  \n",
      "pytz                      2016.4                   py35_0  \n",
      "pywin32                   220                      py35_1  \n",
      "pyyaml                    3.11                     py35_4  \n",
      "pyzmq                     15.2.0                   py35_0  \n",
      "qt                        4.8.7                    vc14_8  [vc14]\n",
      "qtconsole                 4.2.1                    py35_0  \n",
      "qtpy                      1.0.2                    py35_0  \n",
      "requests                  2.10.0                   py35_0  \n",
      "rope                      0.9.4                    py35_1  \n",
      "ruamel_yaml               0.11.7                   py35_0  \n",
      "scikit-image              0.12.3              np111py35_1  \n",
      "scikit-learn              0.17.1              np111py35_1  \n",
      "scipy                     0.17.1              np111py35_1  \n",
      "setuptools                23.0.0                   py35_0  \n",
      "simplegeneric             0.8.1                    py35_1  \n",
      "singledispatch            3.4.0.3                  py35_0  \n",
      "sip                       4.16.9                   py35_2  \n",
      "six                       1.10.0                   py35_0  \n",
      "snowballstemmer           1.2.1                    py35_0  \n",
      "sockjs-tornado            1.0.3                    py35_0  \n",
      "sphinx                    1.4.1                    py35_0  \n",
      "sphinx_rtd_theme          0.1.9                    py35_0  \n",
      "spyder                    2.3.9                    py35_0  \n",
      "sqlalchemy                1.0.13                   py35_0  \n",
      "statsmodels               0.6.1               np111py35_1  \n",
      "sympy                     1.0                      py35_0  \n",
      "tk                        8.5.18                   vc14_0  [vc14]\n",
      "toolz                     0.8.0                    py35_0  \n",
      "tornado                   4.3                      py35_1  \n",
      "traitlets                 4.2.1                    py35_0  \n",
      "unicodecsv                0.14.1                   py35_0  \n",
      "vs2015_runtime            14.0.25123                    0  \n",
      "werkzeug                  0.11.10                  py35_0  \n",
      "wheel                     0.29.0                   py35_0  \n",
      "xlrd                      1.0.0                    py35_0  \n",
      "xlsxwriter                0.9.2                    py35_0  \n",
      "xlwings                   0.7.2                    py35_0  \n",
      "xlwt                      1.1.2                    py35_0  \n",
      "zlib                      1.2.8                    vc14_3  [vc14]\n"
     ]
    }
   ],
   "source": [
    "# ! 後面接 system command，可以直接操控 OS 的底層。\n",
    "!conda list\n",
    "# !pip list"
   ]
  },
  {
   "cell_type": "code",
   "execution_count": 112,
   "metadata": {
    "collapsed": true
   },
   "outputs": [],
   "source": [
    "# OOP\n",
    "class BankAccount:\n",
    "    # 方法：初始化屬性\n",
    "    def __init__(self, id, name):\n",
    "        self.id = id     # 帳號\n",
    "        self.name = name # 戶名\n",
    "        self.balance = 0 # 初始化帳戶餘額\n",
    "    # 方法：提款\n",
    "    def withdraw(self, amount):\n",
    "        if amount <= 0:\n",
    "            print('提領金額不能等於零或負數')\n",
    "        elif amount > self.balance:\n",
    "            print('提領金額大於現有餘額，請重新輸入提領金額')\n",
    "            print('帳號：' + self.id + '\\n姓名：' + self.name + '\\n餘額：' + str(self.balance))\n",
    "        else:\n",
    "            # self.balance = self.balance - amount\n",
    "            self.balance -= amount   # Q：會有什麼問題？      \n",
    "            self.display()\n",
    "            #self.__display()\n",
    "            #return self.balance\n",
    "    # 方法：存款\n",
    "    def deposit(self, amount):\n",
    "        if amount <= 0:\n",
    "            print('存款金額不能為負數')\n",
    "        else:\n",
    "            self.balance += amount\n",
    "            #return self.balance\n",
    "            self.display()\n",
    "    # 方法：顯示帳戶資訊\n",
    "    def __str__(self):\n",
    "        return('帳號：' + self.id + '\\n姓名：' + self.name + '\\n餘額：' + str(self.balance))  # 注意：int 轉 str 才能用在 print() 中\n",
    "    def display(self):\n",
    "        print('帳號：' + self.id + '\\n姓名：' + self.name + '\\n餘額：' + str(self.balance))\n",
    "    def __display(self):\n",
    "        print('帳號：' + self.id + '\\n姓名：' + self.name + '\\n餘額：' + str(self.balance))"
   ]
  },
  {
   "cell_type": "code",
   "execution_count": 113,
   "metadata": {
    "collapsed": false
   },
   "outputs": [],
   "source": [
    "Client_A = BankAccount('c001', 'EC Lee')"
   ]
  },
  {
   "cell_type": "code",
   "execution_count": 114,
   "metadata": {
    "collapsed": false
   },
   "outputs": [
    {
     "data": {
      "text/plain": [
       "'c001'"
      ]
     },
     "execution_count": 114,
     "metadata": {},
     "output_type": "execute_result"
    }
   ],
   "source": [
    "Client_A.id"
   ]
  },
  {
   "cell_type": "code",
   "execution_count": 115,
   "metadata": {
    "collapsed": false
   },
   "outputs": [
    {
     "data": {
      "text/plain": [
       "'帳號：c001\\n姓名：EC Lee\\n餘額：0'"
      ]
     },
     "execution_count": 115,
     "metadata": {},
     "output_type": "execute_result"
    }
   ],
   "source": [
    "Client_A.__str__()"
   ]
  },
  {
   "cell_type": "code",
   "execution_count": 116,
   "metadata": {
    "collapsed": false
   },
   "outputs": [
    {
     "name": "stdout",
     "output_type": "stream",
     "text": [
      "帳號：c001\n",
      "姓名：EC Lee\n",
      "餘額：0\n"
     ]
    }
   ],
   "source": [
    "#Client_A.__str__()\n",
    "print(Client_A.__str__())"
   ]
  },
  {
   "cell_type": "code",
   "execution_count": 117,
   "metadata": {
    "collapsed": false
   },
   "outputs": [
    {
     "name": "stdout",
     "output_type": "stream",
     "text": [
      "帳號：c001\n",
      "姓名：EC Lee\n",
      "餘額：1000\n"
     ]
    }
   ],
   "source": [
    "Client_A.deposit(1000)"
   ]
  },
  {
   "cell_type": "code",
   "execution_count": 118,
   "metadata": {
    "collapsed": false
   },
   "outputs": [
    {
     "name": "stdout",
     "output_type": "stream",
     "text": [
      "帳號：c001\n",
      "姓名：EC Lee\n",
      "餘額：900\n"
     ]
    }
   ],
   "source": [
    "Client_A.withdraw(100)"
   ]
  },
  {
   "cell_type": "code",
   "execution_count": 119,
   "metadata": {
    "collapsed": false
   },
   "outputs": [
    {
     "name": "stdout",
     "output_type": "stream",
     "text": [
      "帳號：c001\n",
      "姓名：EC Lee\n",
      "餘額：900\n"
     ]
    }
   ],
   "source": [
    "Client_A.display()"
   ]
  },
  {
   "cell_type": "code",
   "execution_count": 120,
   "metadata": {
    "collapsed": false
   },
   "outputs": [],
   "source": [
    "Client_B = BankAccount('c002', 'YoYO')"
   ]
  },
  {
   "cell_type": "code",
   "execution_count": 121,
   "metadata": {
    "collapsed": false
   },
   "outputs": [
    {
     "name": "stdout",
     "output_type": "stream",
     "text": [
      "帳號：c002\n",
      "姓名：YoYO\n",
      "餘額：0\n"
     ]
    }
   ],
   "source": [
    "print(Client_B.__str__())"
   ]
  },
  {
   "cell_type": "code",
   "execution_count": 122,
   "metadata": {
    "collapsed": false,
    "scrolled": true
   },
   "outputs": [
    {
     "name": "stdout",
     "output_type": "stream",
     "text": [
      "<class '__main__.BankAccount'>\n"
     ]
    }
   ],
   "source": [
    "print (BankAccount)"
   ]
  },
  {
   "cell_type": "code",
   "execution_count": 123,
   "metadata": {
    "collapsed": false
   },
   "outputs": [
    {
     "name": "stdout",
     "output_type": "stream",
     "text": [
      "帳號：c002\n",
      "姓名：YoYO\n",
      "餘額：0\n"
     ]
    }
   ],
   "source": [
    "print(Client_B.__str__())"
   ]
  },
  {
   "cell_type": "code",
   "execution_count": 124,
   "metadata": {
    "collapsed": false
   },
   "outputs": [
    {
     "name": "stdout",
     "output_type": "stream",
     "text": [
      "提領金額不能等於零或負數\n"
     ]
    }
   ],
   "source": [
    "Client_B.withdraw(-100)"
   ]
  },
  {
   "cell_type": "code",
   "execution_count": 125,
   "metadata": {
    "collapsed": false
   },
   "outputs": [
    {
     "name": "stdout",
     "output_type": "stream",
     "text": [
      "帳號：c002\n",
      "姓名：YoYO\n",
      "餘額：1000\n"
     ]
    }
   ],
   "source": [
    "Client_B.deposit(1000)"
   ]
  },
  {
   "cell_type": "code",
   "execution_count": 126,
   "metadata": {
    "collapsed": false
   },
   "outputs": [
    {
     "name": "stdout",
     "output_type": "stream",
     "text": [
      "帳號：c002\n",
      "姓名：YoYO\n",
      "餘額：900\n"
     ]
    }
   ],
   "source": [
    "Client_B.withdraw(100)"
   ]
  },
  {
   "cell_type": "code",
   "execution_count": 127,
   "metadata": {
    "collapsed": false
   },
   "outputs": [
    {
     "name": "stdout",
     "output_type": "stream",
     "text": [
      "提領金額大於現有餘額，請重新輸入提領金額\n",
      "帳號：c002\n",
      "姓名：YoYO\n",
      "餘額：900\n"
     ]
    }
   ],
   "source": [
    "Client_B.withdraw(1000)"
   ]
  },
  {
   "cell_type": "code",
   "execution_count": null,
   "metadata": {
    "collapsed": true
   },
   "outputs": [],
   "source": []
  }
 ],
 "metadata": {
  "anaconda-cloud": {},
  "kernelspec": {
   "display_name": "Python [Root]",
   "language": "python",
   "name": "Python [Root]"
  },
  "language_info": {
   "codemirror_mode": {
    "name": "ipython",
    "version": 3
   },
   "file_extension": ".py",
   "mimetype": "text/x-python",
   "name": "python",
   "nbconvert_exporter": "python",
   "pygments_lexer": "ipython3",
   "version": "3.5.2"
  }
 },
 "nbformat": 4,
 "nbformat_minor": 1
}
